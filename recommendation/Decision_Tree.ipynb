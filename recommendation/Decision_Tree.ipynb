{
  "nbformat": 4,
  "nbformat_minor": 0,
  "metadata": {
    "colab": {
      "name": "Test_Reccommen_Restaurant.ipynb",
      "provenance": [],
      "mount_file_id": "1Pr0C7lcPqcIAJCC2IRf_lH2n_pkrKYpN",
      "authorship_tag": "ABX9TyPJHWX4mqK4cMeQbXiiKxCi",
      "include_colab_link": true
    },
    "kernelspec": {
      "name": "python3",
      "display_name": "Python 3"
    },
    "language_info": {
      "name": "python"
    }
  },
  "cells": [
    {
      "cell_type": "markdown",
      "metadata": {
        "id": "view-in-github",
        "colab_type": "text"
      },
      "source": [
        "<a href=\"https://colab.research.google.com/github/viewipada/TripPlanner/blob/Recommendation/Decision_Tree.ipynb\" target=\"_parent\"><img src=\"https://colab.research.google.com/assets/colab-badge.svg\" alt=\"Open In Colab\"/></a>"
      ]
    },
    {
      "cell_type": "markdown",
      "metadata": {
        "id": "Eau5eNOx3ldY"
      },
      "source": [
        "# Hello guy\n"
      ]
    },
    {
      "cell_type": "code",
      "metadata": {
        "id": "jYvmaqO5bR6e"
      },
      "source": [
        "import pandas as pd\n",
        "from sklearn.tree import DecisionTreeClassifier\n",
        "from sklearn.model_selection import train_test_split\n",
        "from sklearn import tree\n",
        "from sklearn.neighbors import KNeighborsClassifier"
      ],
      "execution_count": 8,
      "outputs": []
    },
    {
      "cell_type": "code",
      "metadata": {
        "colab": {
          "base_uri": "https://localhost:8080/"
        },
        "id": "HEN0efHrmOUj",
        "outputId": "355cc9f5-7a48-4a66-b778-d47477fbadeb"
      },
      "source": [
        "from google.colab import drive\n",
        "drive.mount('/content/drive')"
      ],
      "execution_count": 9,
      "outputs": [
        {
          "output_type": "stream",
          "name": "stdout",
          "text": [
            "Drive already mounted at /content/drive; to attempt to forcibly remount, call drive.mount(\"/content/drive\", force_remount=True).\n"
          ]
        }
      ]
    },
    {
      "cell_type": "code",
      "metadata": {
        "id": "gDxAulTekKUK"
      },
      "source": [
        "path_res = \"/content/drive/MyDrive/Colab Notebooks/Data/restaurant.csv\"\n",
        "df_restaurant = pd.read_csv(path_res)\n",
        "# array_restaurant = df_restaurant.values\n",
        "path_con = \"/content/drive/MyDrive/Colab Notebooks/Data/cuisine.csv\"\n",
        "df_cuisine = pd.read_csv(path_con)\n",
        "# array_cuisine = df_cuisine.values\n",
        "path_test = \"/content/drive/MyDrive/Colab Notebooks/Data/Test (1).csv\"\n",
        "df_test = pd.read_csv(path_test)\n",
        "# array_cuisine = df_test.values\n",
        "data_path = \"/content/drive/MyDrive/Colab Notebooks/Data/Test_dataform3.csv\"\n",
        "data = pd.read_csv(data_path)"
      ],
      "execution_count": 10,
      "outputs": []
    },
    {
      "cell_type": "markdown",
      "metadata": {
        "id": "OngfvKLonqvN"
      },
      "source": [
        "ดูจำนวนแถวและคอลัมน์\n"
      ]
    },
    {
      "cell_type": "code",
      "metadata": {
        "colab": {
          "base_uri": "https://localhost:8080/"
        },
        "id": "B5sk43Xsl_CZ",
        "outputId": "d556e789-28e1-4c8a-bcbf-402068e617c1"
      },
      "source": [
        "print(df_restaurant.shape)"
      ],
      "execution_count": null,
      "outputs": [
        {
          "output_type": "stream",
          "name": "stdout",
          "text": [
            "(1027, 15)\n"
          ]
        }
      ]
    },
    {
      "cell_type": "code",
      "metadata": {
        "colab": {
          "base_uri": "https://localhost:8080/",
          "height": 261
        },
        "id": "sS12mrDZocOW",
        "outputId": "6deb5295-0b2e-4549-cb0b-f4de0d593631"
      },
      "source": [
        "df_restaurant.head(3)"
      ],
      "execution_count": null,
      "outputs": [
        {
          "output_type": "execute_result",
          "data": {
            "text/html": [
              "<div>\n",
              "<style scoped>\n",
              "    .dataframe tbody tr th:only-of-type {\n",
              "        vertical-align: middle;\n",
              "    }\n",
              "\n",
              "    .dataframe tbody tr th {\n",
              "        vertical-align: top;\n",
              "    }\n",
              "\n",
              "    .dataframe thead th {\n",
              "        text-align: right;\n",
              "    }\n",
              "</style>\n",
              "<table border=\"1\" class=\"dataframe\">\n",
              "  <thead>\n",
              "    <tr style=\"text-align: right;\">\n",
              "      <th></th>\n",
              "      <th>id</th>\n",
              "      <th>name</th>\n",
              "      <th>latitude</th>\n",
              "      <th>longitude</th>\n",
              "      <th>address</th>\n",
              "      <th>area</th>\n",
              "      <th>city</th>\n",
              "      <th>cost</th>\n",
              "      <th>rating</th>\n",
              "      <th>homedelivery</th>\n",
              "      <th>smoking</th>\n",
              "      <th>alcohol</th>\n",
              "      <th>wifi</th>\n",
              "      <th>valetparking</th>\n",
              "      <th>rooftop</th>\n",
              "    </tr>\n",
              "  </thead>\n",
              "  <tbody>\n",
              "    <tr>\n",
              "      <th>0</th>\n",
              "      <td>0</td>\n",
              "      <td>Razzberry Rhinoceros</td>\n",
              "      <td>19.102989</td>\n",
              "      <td>72.825519</td>\n",
              "      <td>JuhuHotel, 39/2, Juhu Tara, Juhu, Mumbai</td>\n",
              "      <td>Juhu</td>\n",
              "      <td>Mumbai</td>\n",
              "      <td>2500</td>\n",
              "      <td>3.5</td>\n",
              "      <td>no</td>\n",
              "      <td>yes</td>\n",
              "      <td>yes</td>\n",
              "      <td>yes</td>\n",
              "      <td>yes</td>\n",
              "      <td>no</td>\n",
              "    </tr>\n",
              "    <tr>\n",
              "      <th>1</th>\n",
              "      <td>1</td>\n",
              "      <td>JLWA</td>\n",
              "      <td>19.060339</td>\n",
              "      <td>72.836166</td>\n",
              "      <td>Linking Road, Bandra West3rd Floor, VN Sphere ...</td>\n",
              "      <td>Linking Road, Bandra West</td>\n",
              "      <td>Mumbai</td>\n",
              "      <td>1600</td>\n",
              "      <td>4.5</td>\n",
              "      <td>no</td>\n",
              "      <td>yes</td>\n",
              "      <td>yes</td>\n",
              "      <td>no</td>\n",
              "      <td>yes</td>\n",
              "      <td>no</td>\n",
              "    </tr>\n",
              "    <tr>\n",
              "      <th>2</th>\n",
              "      <td>2</td>\n",
              "      <td>Tamasha</td>\n",
              "      <td>19.005862</td>\n",
              "      <td>72.827454</td>\n",
              "      <td>Ground Floor, Victoria House, E.B Marg,Lower P...</td>\n",
              "      <td>Lower Parel</td>\n",
              "      <td>Mumbai</td>\n",
              "      <td>1800</td>\n",
              "      <td>4.1</td>\n",
              "      <td>no</td>\n",
              "      <td>yes</td>\n",
              "      <td>yes</td>\n",
              "      <td>no</td>\n",
              "      <td>yes</td>\n",
              "      <td>no</td>\n",
              "    </tr>\n",
              "  </tbody>\n",
              "</table>\n",
              "</div>"
            ],
            "text/plain": [
              "   id                  name   latitude  ...   wifi  valetparking  rooftop  \n",
              "0   0  Razzberry Rhinoceros  19.102989  ...    yes           yes         no\n",
              "1   1                  JLWA  19.060339  ...     no           yes         no\n",
              "2   2               Tamasha  19.005862  ...     no           yes         no\n",
              "\n",
              "[3 rows x 15 columns]"
            ]
          },
          "metadata": {},
          "execution_count": 5
        }
      ]
    },
    {
      "cell_type": "code",
      "metadata": {
        "colab": {
          "base_uri": "https://localhost:8080/"
        },
        "id": "6wz9bwc4otWf",
        "outputId": "b0f92bd6-a9c3-444a-8c70-366e8453dee2"
      },
      "source": [
        "df_restaurant.info"
      ],
      "execution_count": null,
      "outputs": [
        {
          "output_type": "execute_result",
          "data": {
            "text/plain": [
              "<bound method DataFrame.info of         id                        name  ...   valetparking   rooftop  \n",
              "0        0        Razzberry Rhinoceros  ...            yes          no\n",
              "1        1                        JLWA  ...            yes          no\n",
              "2        2                     Tamasha  ...            yes          no\n",
              "3        3                Joey's Pizza  ...             no          no\n",
              "4        4                     HITCHKI  ...            yes          no\n",
              "...    ...                         ...  ...            ...         ...\n",
              "1022  1028   Sequel Bistro & Juice Bar  ...             no          no\n",
              "1023  1030                   Alfredo's  ...            yes          no\n",
              "1024  1031  Little Hut Chinese Cuisine  ...             no          no\n",
              "1025  1033        The Corner Club Cafe  ...             no          no\n",
              "1026  1034                     The Den  ...            yes          no\n",
              "\n",
              "[1027 rows x 15 columns]>"
            ]
          },
          "metadata": {},
          "execution_count": 6
        }
      ]
    },
    {
      "cell_type": "code",
      "metadata": {
        "colab": {
          "base_uri": "https://localhost:8080/"
        },
        "id": "oFkg6Omnoo_A",
        "outputId": "dd307bff-467a-4de4-8129-be3569113e4b"
      },
      "source": [
        "print(df_cuisine.shape)"
      ],
      "execution_count": null,
      "outputs": [
        {
          "output_type": "stream",
          "name": "stdout",
          "text": [
            "(3635, 3)\n"
          ]
        }
      ]
    },
    {
      "cell_type": "code",
      "metadata": {
        "colab": {
          "base_uri": "https://localhost:8080/",
          "height": 142
        },
        "id": "kYGhywNMnz5V",
        "outputId": "44a57d46-fd73-43d3-b039-afbe00d82ef8"
      },
      "source": [
        "df_cuisine.head(3)"
      ],
      "execution_count": null,
      "outputs": [
        {
          "output_type": "execute_result",
          "data": {
            "text/html": [
              "<div>\n",
              "<style scoped>\n",
              "    .dataframe tbody tr th:only-of-type {\n",
              "        vertical-align: middle;\n",
              "    }\n",
              "\n",
              "    .dataframe tbody tr th {\n",
              "        vertical-align: top;\n",
              "    }\n",
              "\n",
              "    .dataframe thead th {\n",
              "        text-align: right;\n",
              "    }\n",
              "</style>\n",
              "<table border=\"1\" class=\"dataframe\">\n",
              "  <thead>\n",
              "    <tr style=\"text-align: right;\">\n",
              "      <th></th>\n",
              "      <th>id</th>\n",
              "      <th>rid</th>\n",
              "      <th>cuisine</th>\n",
              "    </tr>\n",
              "  </thead>\n",
              "  <tbody>\n",
              "    <tr>\n",
              "      <th>0</th>\n",
              "      <td>0</td>\n",
              "      <td>0</td>\n",
              "      <td>Mediterranean</td>\n",
              "    </tr>\n",
              "    <tr>\n",
              "      <th>1</th>\n",
              "      <td>1</td>\n",
              "      <td>0</td>\n",
              "      <td>Italian</td>\n",
              "    </tr>\n",
              "    <tr>\n",
              "      <th>2</th>\n",
              "      <td>2</td>\n",
              "      <td>0</td>\n",
              "      <td>North Indian</td>\n",
              "    </tr>\n",
              "  </tbody>\n",
              "</table>\n",
              "</div>"
            ],
            "text/plain": [
              "   id  rid        cuisine\n",
              "0   0    0  Mediterranean\n",
              "1   1    0        Italian\n",
              "2   2    0   North Indian"
            ]
          },
          "metadata": {},
          "execution_count": 8
        }
      ]
    },
    {
      "cell_type": "code",
      "metadata": {
        "colab": {
          "base_uri": "https://localhost:8080/",
          "height": 204
        },
        "id": "92oErQuJyXVF",
        "outputId": "6dc19c28-35e6-4855-ae68-c9f2205fa958"
      },
      "source": [
        "df_cuisine.head(5)"
      ],
      "execution_count": 6,
      "outputs": [
        {
          "output_type": "execute_result",
          "data": {
            "text/html": [
              "<div>\n",
              "<style scoped>\n",
              "    .dataframe tbody tr th:only-of-type {\n",
              "        vertical-align: middle;\n",
              "    }\n",
              "\n",
              "    .dataframe tbody tr th {\n",
              "        vertical-align: top;\n",
              "    }\n",
              "\n",
              "    .dataframe thead th {\n",
              "        text-align: right;\n",
              "    }\n",
              "</style>\n",
              "<table border=\"1\" class=\"dataframe\">\n",
              "  <thead>\n",
              "    <tr style=\"text-align: right;\">\n",
              "      <th></th>\n",
              "      <th>id</th>\n",
              "      <th>rid</th>\n",
              "      <th>cuisine</th>\n",
              "    </tr>\n",
              "  </thead>\n",
              "  <tbody>\n",
              "    <tr>\n",
              "      <th>0</th>\n",
              "      <td>0</td>\n",
              "      <td>0</td>\n",
              "      <td>Mediterranean</td>\n",
              "    </tr>\n",
              "    <tr>\n",
              "      <th>1</th>\n",
              "      <td>1</td>\n",
              "      <td>0</td>\n",
              "      <td>Italian</td>\n",
              "    </tr>\n",
              "    <tr>\n",
              "      <th>2</th>\n",
              "      <td>2</td>\n",
              "      <td>0</td>\n",
              "      <td>North Indian</td>\n",
              "    </tr>\n",
              "    <tr>\n",
              "      <th>3</th>\n",
              "      <td>3</td>\n",
              "      <td>0</td>\n",
              "      <td>Continental</td>\n",
              "    </tr>\n",
              "    <tr>\n",
              "      <th>4</th>\n",
              "      <td>4</td>\n",
              "      <td>1</td>\n",
              "      <td>Modern Indian</td>\n",
              "    </tr>\n",
              "  </tbody>\n",
              "</table>\n",
              "</div>"
            ],
            "text/plain": [
              "   id  rid        cuisine\n",
              "0   0    0  Mediterranean\n",
              "1   1    0        Italian\n",
              "2   2    0   North Indian\n",
              "3   3    0    Continental\n",
              "4   4    1  Modern Indian"
            ]
          },
          "metadata": {},
          "execution_count": 6
        }
      ]
    },
    {
      "cell_type": "code",
      "metadata": {
        "colab": {
          "base_uri": "https://localhost:8080/"
        },
        "id": "SL3BZnZKo6pG",
        "outputId": "9f62456b-540d-40ce-8a2b-d01ae1fc6424"
      },
      "source": [
        "df_cuisine.info"
      ],
      "execution_count": null,
      "outputs": [
        {
          "output_type": "execute_result",
          "data": {
            "text/plain": [
              "<bound method DataFrame.info of         id   rid        cuisine\n",
              "0        0     0  Mediterranean\n",
              "1        1     0        Italian\n",
              "2        2     0   North Indian\n",
              "3        3     0    Continental\n",
              "4        4     1  Modern Indian\n",
              "...    ...   ...            ...\n",
              "3630  3630  1033   North Indian\n",
              "3631  3631  1033    Continental\n",
              "3632  3632  1034       European\n",
              "3633  3633  1034       American\n",
              "3634  3634  1034   North Indian\n",
              "\n",
              "[3635 rows x 3 columns]>"
            ]
          },
          "metadata": {},
          "execution_count": 9
        }
      ]
    },
    {
      "cell_type": "code",
      "metadata": {
        "colab": {
          "base_uri": "https://localhost:8080/"
        },
        "id": "d1glVBTUpakD",
        "outputId": "c1001b73-80ce-4ccb-f93c-8b621d2c2322"
      },
      "source": [
        "filter_cuisine_id = array_cuisine[array_cuisine[:,2] == 'Italian'] \n",
        "print(filter_cuisine_id[:15])\n",
        "#print(array_cuisine[:10,2])"
      ],
      "execution_count": null,
      "outputs": [
        {
          "output_type": "stream",
          "name": "stdout",
          "text": [
            "[]\n"
          ]
        }
      ]
    },
    {
      "cell_type": "code",
      "metadata": {
        "colab": {
          "base_uri": "https://localhost:8080/"
        },
        "id": "0OKH_Cy2thju",
        "outputId": "1505450d-8c3e-4f6b-acc9-fff9ea91c649"
      },
      "source": [
        "filter_cuisine_id = filter_cuisine_id[:,1]\n",
        "print(filter_cuisine_id[:15])"
      ],
      "execution_count": null,
      "outputs": [
        {
          "output_type": "stream",
          "name": "stdout",
          "text": [
            "[]\n"
          ]
        }
      ]
    },
    {
      "cell_type": "code",
      "metadata": {
        "colab": {
          "base_uri": "https://localhost:8080/"
        },
        "id": "dbMCQEd21A_g",
        "outputId": "49219d7f-56b1-48ac-83e1-b72314124d86"
      },
      "source": [
        "df_test.info()"
      ],
      "execution_count": null,
      "outputs": [
        {
          "output_type": "stream",
          "name": "stdout",
          "text": [
            "<class 'pandas.core.frame.DataFrame'>\n",
            "RangeIndex: 501 entries, 0 to 500\n",
            "Data columns (total 9 columns):\n",
            " #   Column        Non-Null Count  Dtype \n",
            "---  ------        --------------  ----- \n",
            " 0   id            501 non-null    int64 \n",
            " 1   rid           501 non-null    int64 \n",
            " 2   homedelivery  501 non-null    object\n",
            " 3   smoking       501 non-null    object\n",
            " 4   alcohol       501 non-null    object\n",
            " 5   wifi          501 non-null    object\n",
            " 6   valetparking  501 non-null    object\n",
            " 7   rooftop       501 non-null    object\n",
            " 8   cuisine       501 non-null    object\n",
            "dtypes: int64(2), object(7)\n",
            "memory usage: 35.4+ KB\n"
          ]
        }
      ]
    },
    {
      "cell_type": "code",
      "metadata": {
        "id": "0YrElIOQq785",
        "colab": {
          "base_uri": "https://localhost:8080/",
          "height": 359
        },
        "outputId": "48609783-1631-4829-d1fb-17b58a199001"
      },
      "source": [
        "df_test.head(10)"
      ],
      "execution_count": null,
      "outputs": [
        {
          "output_type": "execute_result",
          "data": {
            "text/html": [
              "<div>\n",
              "<style scoped>\n",
              "    .dataframe tbody tr th:only-of-type {\n",
              "        vertical-align: middle;\n",
              "    }\n",
              "\n",
              "    .dataframe tbody tr th {\n",
              "        vertical-align: top;\n",
              "    }\n",
              "\n",
              "    .dataframe thead th {\n",
              "        text-align: right;\n",
              "    }\n",
              "</style>\n",
              "<table border=\"1\" class=\"dataframe\">\n",
              "  <thead>\n",
              "    <tr style=\"text-align: right;\">\n",
              "      <th></th>\n",
              "      <th>id</th>\n",
              "      <th>rid</th>\n",
              "      <th>homedelivery</th>\n",
              "      <th>smoking</th>\n",
              "      <th>alcohol</th>\n",
              "      <th>wifi</th>\n",
              "      <th>valetparking</th>\n",
              "      <th>rooftop</th>\n",
              "      <th>cuisine</th>\n",
              "    </tr>\n",
              "  </thead>\n",
              "  <tbody>\n",
              "    <tr>\n",
              "      <th>0</th>\n",
              "      <td>0</td>\n",
              "      <td>0</td>\n",
              "      <td>1</td>\n",
              "      <td>yes</td>\n",
              "      <td>yes</td>\n",
              "      <td>yes</td>\n",
              "      <td>yes</td>\n",
              "      <td>no</td>\n",
              "      <td>Mediterranean</td>\n",
              "    </tr>\n",
              "    <tr>\n",
              "      <th>1</th>\n",
              "      <td>1</td>\n",
              "      <td>0</td>\n",
              "      <td>1</td>\n",
              "      <td>yes</td>\n",
              "      <td>yes</td>\n",
              "      <td>no</td>\n",
              "      <td>yes</td>\n",
              "      <td>no</td>\n",
              "      <td>Italian</td>\n",
              "    </tr>\n",
              "    <tr>\n",
              "      <th>2</th>\n",
              "      <td>2</td>\n",
              "      <td>0</td>\n",
              "      <td>1</td>\n",
              "      <td>yes</td>\n",
              "      <td>yes</td>\n",
              "      <td>no</td>\n",
              "      <td>yes</td>\n",
              "      <td>no</td>\n",
              "      <td>North Indian</td>\n",
              "    </tr>\n",
              "    <tr>\n",
              "      <th>3</th>\n",
              "      <td>3</td>\n",
              "      <td>0</td>\n",
              "      <td>2</td>\n",
              "      <td>no</td>\n",
              "      <td>no</td>\n",
              "      <td>no</td>\n",
              "      <td>no</td>\n",
              "      <td>no</td>\n",
              "      <td>Continental</td>\n",
              "    </tr>\n",
              "    <tr>\n",
              "      <th>4</th>\n",
              "      <td>4</td>\n",
              "      <td>1</td>\n",
              "      <td>1</td>\n",
              "      <td>yes</td>\n",
              "      <td>yes</td>\n",
              "      <td>yes</td>\n",
              "      <td>yes</td>\n",
              "      <td>no</td>\n",
              "      <td>Modern Indian</td>\n",
              "    </tr>\n",
              "    <tr>\n",
              "      <th>5</th>\n",
              "      <td>5</td>\n",
              "      <td>1</td>\n",
              "      <td>1</td>\n",
              "      <td>yes</td>\n",
              "      <td>yes</td>\n",
              "      <td>no</td>\n",
              "      <td>yes</td>\n",
              "      <td>no</td>\n",
              "      <td>European</td>\n",
              "    </tr>\n",
              "    <tr>\n",
              "      <th>6</th>\n",
              "      <td>6</td>\n",
              "      <td>1</td>\n",
              "      <td>1</td>\n",
              "      <td>yes</td>\n",
              "      <td>yes</td>\n",
              "      <td>yes</td>\n",
              "      <td>yes</td>\n",
              "      <td>yes</td>\n",
              "      <td>Pizza</td>\n",
              "    </tr>\n",
              "    <tr>\n",
              "      <th>7</th>\n",
              "      <td>7</td>\n",
              "      <td>1</td>\n",
              "      <td>1</td>\n",
              "      <td>no</td>\n",
              "      <td>yes</td>\n",
              "      <td>no</td>\n",
              "      <td>no</td>\n",
              "      <td>yes</td>\n",
              "      <td>Grill</td>\n",
              "    </tr>\n",
              "    <tr>\n",
              "      <th>8</th>\n",
              "      <td>8</td>\n",
              "      <td>2</td>\n",
              "      <td>1</td>\n",
              "      <td>yes</td>\n",
              "      <td>yes</td>\n",
              "      <td>yes</td>\n",
              "      <td>yes</td>\n",
              "      <td>no</td>\n",
              "      <td>Finger Food</td>\n",
              "    </tr>\n",
              "    <tr>\n",
              "      <th>9</th>\n",
              "      <td>9</td>\n",
              "      <td>2</td>\n",
              "      <td>1</td>\n",
              "      <td>no</td>\n",
              "      <td>no</td>\n",
              "      <td>no</td>\n",
              "      <td>no</td>\n",
              "      <td>no</td>\n",
              "      <td>Continental</td>\n",
              "    </tr>\n",
              "  </tbody>\n",
              "</table>\n",
              "</div>"
            ],
            "text/plain": [
              "   id  rid  homedelivery smoking  ... wifi valetparking rooftop          cuisine\n",
              "0   0    0             1     yes  ...  yes          yes        no  Mediterranean\n",
              "1   1    0             1     yes  ...   no          yes        no        Italian\n",
              "2   2    0             1     yes  ...   no          yes        no   North Indian\n",
              "3   3    0             2      no  ...   no           no        no    Continental\n",
              "4   4    1             1     yes  ...  yes          yes        no  Modern Indian\n",
              "5   5    1             1     yes  ...   no          yes        no       European\n",
              "6   6    1             1     yes  ...  yes          yes       yes          Pizza\n",
              "7   7    1             1      no  ...   no           no       yes          Grill\n",
              "8   8    2             1     yes  ...  yes          yes        no    Finger Food\n",
              "9   9    2             1      no  ...   no           no        no    Continental\n",
              "\n",
              "[10 rows x 9 columns]"
            ]
          },
          "metadata": {},
          "execution_count": 65
        }
      ]
    },
    {
      "cell_type": "code",
      "metadata": {
        "colab": {
          "base_uri": "https://localhost:8080/",
          "height": 374
        },
        "id": "HsoFJSZayblE",
        "outputId": "46bbd9dc-9398-413d-bcbd-d8e589eac11f"
      },
      "source": [
        "df_test['homedelivery'] = df_test.homedelivery.replace(['no','yes'],[1,2])\n",
        "df_test['smoking'] = df_test.smoking.replace(['no','yes'],[1,2])\n",
        "df_test['alcohol'] = df_test.alcohol.replace(['no','yes'],[1,2])\n",
        "df_test['wifi'] = df_test.wifi.replace(['no','yes'],[1,2])\n",
        "df_test['valetparking'] = df_test.valetparking.replace(['no','yes'],[1,2])\n",
        "# df_test['rooftop'] = df_test.rooftop.replace(['no','yes'],[1,2])\n",
        "df_test['cuisine'] = df_test.cuisine.replace(['Mediterranean','Italian','North Indian','Continental','Modern Indian','European','Pizza','Grill','Finger Food','Mexican','Japanese','Asian'\n",
        ",'Healthy Food','Indian','Cafe','Fast Food','Chinese','American','Mughlai','South Indian','Spanish','Lebanese','Burger','Desserts','Seafood','Salad'\n",
        ",'Arabian','Modern Australian','Turkish','Greek','Cantonese','Dim Sum','Tea','Yum Cha','Fusion','Sushi','Beverages','Pan Asian','Thai','Goan','North Eastern','Parsi','Iranian','Juices','Sandwich','Street Food'\n",
        ",'Biryani','Persian','Coffee and Tea','Bakery','Rolls','Ice Cream','Bar Food','Contemporary','British','Kebab','BBQ','Burmese'],[1,2,3,4,5,6,7,8,9,10,11,12,13,14,15,16,17,18,19,20,21,22,23,24,25,26,27,28,29,30,31,32,33,34,35,36,37,38,39,40,41,42,43,44,45,46,47,48,49,50,51,52,53,54,55,56,57,58])"
      ],
      "execution_count": null,
      "outputs": [
        {
          "output_type": "error",
          "ename": "TypeError",
          "evalue": "ignored",
          "traceback": [
            "\u001b[0;31m---------------------------------------------------------------------------\u001b[0m",
            "\u001b[0;31mTypeError\u001b[0m                                 Traceback (most recent call last)",
            "\u001b[0;32m<ipython-input-68-ce9bee79e785>\u001b[0m in \u001b[0;36m<module>\u001b[0;34m()\u001b[0m\n\u001b[1;32m      1\u001b[0m \u001b[0;31m# df_test['homedelivery'] = df_test.homedelivery.replace(['no','yes'],[1,2])\u001b[0m\u001b[0;34m\u001b[0m\u001b[0;34m\u001b[0m\u001b[0;34m\u001b[0m\u001b[0m\n\u001b[0;32m----> 2\u001b[0;31m \u001b[0mdf_test\u001b[0m\u001b[0;34m[\u001b[0m\u001b[0;34m'smoking'\u001b[0m\u001b[0;34m]\u001b[0m \u001b[0;34m=\u001b[0m \u001b[0mdf_test\u001b[0m\u001b[0;34m.\u001b[0m\u001b[0msmoking\u001b[0m\u001b[0;34m.\u001b[0m\u001b[0mreplace\u001b[0m\u001b[0;34m(\u001b[0m\u001b[0;34m[\u001b[0m\u001b[0;34m'no'\u001b[0m\u001b[0;34m,\u001b[0m\u001b[0;34m'yes'\u001b[0m\u001b[0;34m]\u001b[0m\u001b[0;34m,\u001b[0m\u001b[0;34m[\u001b[0m\u001b[0;36m1\u001b[0m\u001b[0;34m,\u001b[0m\u001b[0;36m2\u001b[0m\u001b[0;34m]\u001b[0m\u001b[0;34m)\u001b[0m\u001b[0;34m\u001b[0m\u001b[0;34m\u001b[0m\u001b[0m\n\u001b[0m\u001b[1;32m      3\u001b[0m \u001b[0mdf_test\u001b[0m\u001b[0;34m[\u001b[0m\u001b[0;34m'alcohol'\u001b[0m\u001b[0;34m]\u001b[0m \u001b[0;34m=\u001b[0m \u001b[0mdf_test\u001b[0m\u001b[0;34m.\u001b[0m\u001b[0malcohol\u001b[0m\u001b[0;34m.\u001b[0m\u001b[0mreplace\u001b[0m\u001b[0;34m(\u001b[0m\u001b[0;34m[\u001b[0m\u001b[0;34m'no'\u001b[0m\u001b[0;34m,\u001b[0m\u001b[0;34m'yes'\u001b[0m\u001b[0;34m]\u001b[0m\u001b[0;34m,\u001b[0m\u001b[0;34m[\u001b[0m\u001b[0;36m1\u001b[0m\u001b[0;34m,\u001b[0m\u001b[0;36m2\u001b[0m\u001b[0;34m]\u001b[0m\u001b[0;34m)\u001b[0m\u001b[0;34m\u001b[0m\u001b[0;34m\u001b[0m\u001b[0m\n\u001b[1;32m      4\u001b[0m \u001b[0mdf_test\u001b[0m\u001b[0;34m[\u001b[0m\u001b[0;34m'wifi'\u001b[0m\u001b[0;34m]\u001b[0m \u001b[0;34m=\u001b[0m \u001b[0mdf_test\u001b[0m\u001b[0;34m.\u001b[0m\u001b[0mwifi\u001b[0m\u001b[0;34m.\u001b[0m\u001b[0mreplace\u001b[0m\u001b[0;34m(\u001b[0m\u001b[0;34m[\u001b[0m\u001b[0;34m'no'\u001b[0m\u001b[0;34m,\u001b[0m\u001b[0;34m'yes'\u001b[0m\u001b[0;34m]\u001b[0m\u001b[0;34m,\u001b[0m\u001b[0;34m[\u001b[0m\u001b[0;36m1\u001b[0m\u001b[0;34m,\u001b[0m\u001b[0;36m2\u001b[0m\u001b[0;34m]\u001b[0m\u001b[0;34m)\u001b[0m\u001b[0;34m\u001b[0m\u001b[0;34m\u001b[0m\u001b[0m\n\u001b[1;32m      5\u001b[0m \u001b[0mdf_test\u001b[0m\u001b[0;34m[\u001b[0m\u001b[0;34m'valetparking'\u001b[0m\u001b[0;34m]\u001b[0m \u001b[0;34m=\u001b[0m \u001b[0mdf_test\u001b[0m\u001b[0;34m.\u001b[0m\u001b[0mvaletparking\u001b[0m\u001b[0;34m.\u001b[0m\u001b[0mreplace\u001b[0m\u001b[0;34m(\u001b[0m\u001b[0;34m[\u001b[0m\u001b[0;34m'no'\u001b[0m\u001b[0;34m,\u001b[0m\u001b[0;34m'yes'\u001b[0m\u001b[0;34m]\u001b[0m\u001b[0;34m,\u001b[0m\u001b[0;34m[\u001b[0m\u001b[0;36m1\u001b[0m\u001b[0;34m,\u001b[0m\u001b[0;36m2\u001b[0m\u001b[0;34m]\u001b[0m\u001b[0;34m)\u001b[0m\u001b[0;34m\u001b[0m\u001b[0;34m\u001b[0m\u001b[0m\n",
            "\u001b[0;32m/usr/local/lib/python3.7/dist-packages/pandas/core/series.py\u001b[0m in \u001b[0;36mreplace\u001b[0;34m(self, to_replace, value, inplace, limit, regex, method)\u001b[0m\n\u001b[1;32m   4580\u001b[0m             \u001b[0mlimit\u001b[0m\u001b[0;34m=\u001b[0m\u001b[0mlimit\u001b[0m\u001b[0;34m,\u001b[0m\u001b[0;34m\u001b[0m\u001b[0;34m\u001b[0m\u001b[0m\n\u001b[1;32m   4581\u001b[0m             \u001b[0mregex\u001b[0m\u001b[0;34m=\u001b[0m\u001b[0mregex\u001b[0m\u001b[0;34m,\u001b[0m\u001b[0;34m\u001b[0m\u001b[0;34m\u001b[0m\u001b[0m\n\u001b[0;32m-> 4582\u001b[0;31m             \u001b[0mmethod\u001b[0m\u001b[0;34m=\u001b[0m\u001b[0mmethod\u001b[0m\u001b[0;34m,\u001b[0m\u001b[0;34m\u001b[0m\u001b[0;34m\u001b[0m\u001b[0m\n\u001b[0m\u001b[1;32m   4583\u001b[0m         )\n\u001b[1;32m   4584\u001b[0m \u001b[0;34m\u001b[0m\u001b[0m\n",
            "\u001b[0;32m/usr/local/lib/python3.7/dist-packages/pandas/core/generic.py\u001b[0m in \u001b[0;36mreplace\u001b[0;34m(self, to_replace, value, inplace, limit, regex, method)\u001b[0m\n\u001b[1;32m   6551\u001b[0m                         \u001b[0mdest_list\u001b[0m\u001b[0;34m=\u001b[0m\u001b[0mvalue\u001b[0m\u001b[0;34m,\u001b[0m\u001b[0;34m\u001b[0m\u001b[0;34m\u001b[0m\u001b[0m\n\u001b[1;32m   6552\u001b[0m                         \u001b[0minplace\u001b[0m\u001b[0;34m=\u001b[0m\u001b[0minplace\u001b[0m\u001b[0;34m,\u001b[0m\u001b[0;34m\u001b[0m\u001b[0;34m\u001b[0m\u001b[0m\n\u001b[0;32m-> 6553\u001b[0;31m                         \u001b[0mregex\u001b[0m\u001b[0;34m=\u001b[0m\u001b[0mregex\u001b[0m\u001b[0;34m,\u001b[0m\u001b[0;34m\u001b[0m\u001b[0;34m\u001b[0m\u001b[0m\n\u001b[0m\u001b[1;32m   6554\u001b[0m                     )\n\u001b[1;32m   6555\u001b[0m \u001b[0;34m\u001b[0m\u001b[0m\n",
            "\u001b[0;32m/usr/local/lib/python3.7/dist-packages/pandas/core/internals/managers.py\u001b[0m in \u001b[0;36mreplace_list\u001b[0;34m(self, src_list, dest_list, inplace, regex)\u001b[0m\n\u001b[1;32m    649\u001b[0m         \u001b[0mmask\u001b[0m \u001b[0;34m=\u001b[0m \u001b[0;34m~\u001b[0m\u001b[0misna\u001b[0m\u001b[0;34m(\u001b[0m\u001b[0mvalues\u001b[0m\u001b[0;34m)\u001b[0m\u001b[0;34m\u001b[0m\u001b[0;34m\u001b[0m\u001b[0m\n\u001b[1;32m    650\u001b[0m \u001b[0;34m\u001b[0m\u001b[0m\n\u001b[0;32m--> 651\u001b[0;31m         \u001b[0mmasks\u001b[0m \u001b[0;34m=\u001b[0m \u001b[0;34m[\u001b[0m\u001b[0mcomp\u001b[0m\u001b[0;34m(\u001b[0m\u001b[0ms\u001b[0m\u001b[0;34m,\u001b[0m \u001b[0mmask\u001b[0m\u001b[0;34m,\u001b[0m \u001b[0mregex\u001b[0m\u001b[0;34m)\u001b[0m \u001b[0;32mfor\u001b[0m \u001b[0ms\u001b[0m \u001b[0;32min\u001b[0m \u001b[0msrc_list\u001b[0m\u001b[0;34m]\u001b[0m\u001b[0;34m\u001b[0m\u001b[0;34m\u001b[0m\u001b[0m\n\u001b[0m\u001b[1;32m    652\u001b[0m \u001b[0;34m\u001b[0m\u001b[0m\n\u001b[1;32m    653\u001b[0m         \u001b[0mresult_blocks\u001b[0m \u001b[0;34m=\u001b[0m \u001b[0;34m[\u001b[0m\u001b[0;34m]\u001b[0m\u001b[0;34m\u001b[0m\u001b[0;34m\u001b[0m\u001b[0m\n",
            "\u001b[0;32m/usr/local/lib/python3.7/dist-packages/pandas/core/internals/managers.py\u001b[0m in \u001b[0;36m<listcomp>\u001b[0;34m(.0)\u001b[0m\n\u001b[1;32m    649\u001b[0m         \u001b[0mmask\u001b[0m \u001b[0;34m=\u001b[0m \u001b[0;34m~\u001b[0m\u001b[0misna\u001b[0m\u001b[0;34m(\u001b[0m\u001b[0mvalues\u001b[0m\u001b[0;34m)\u001b[0m\u001b[0;34m\u001b[0m\u001b[0;34m\u001b[0m\u001b[0m\n\u001b[1;32m    650\u001b[0m \u001b[0;34m\u001b[0m\u001b[0m\n\u001b[0;32m--> 651\u001b[0;31m         \u001b[0mmasks\u001b[0m \u001b[0;34m=\u001b[0m \u001b[0;34m[\u001b[0m\u001b[0mcomp\u001b[0m\u001b[0;34m(\u001b[0m\u001b[0ms\u001b[0m\u001b[0;34m,\u001b[0m \u001b[0mmask\u001b[0m\u001b[0;34m,\u001b[0m \u001b[0mregex\u001b[0m\u001b[0;34m)\u001b[0m \u001b[0;32mfor\u001b[0m \u001b[0ms\u001b[0m \u001b[0;32min\u001b[0m \u001b[0msrc_list\u001b[0m\u001b[0;34m]\u001b[0m\u001b[0;34m\u001b[0m\u001b[0;34m\u001b[0m\u001b[0m\n\u001b[0m\u001b[1;32m    652\u001b[0m \u001b[0;34m\u001b[0m\u001b[0m\n\u001b[1;32m    653\u001b[0m         \u001b[0mresult_blocks\u001b[0m \u001b[0;34m=\u001b[0m \u001b[0;34m[\u001b[0m\u001b[0;34m]\u001b[0m\u001b[0;34m\u001b[0m\u001b[0;34m\u001b[0m\u001b[0m\n",
            "\u001b[0;32m/usr/local/lib/python3.7/dist-packages/pandas/core/internals/managers.py\u001b[0m in \u001b[0;36mcomp\u001b[0;34m(s, mask, regex)\u001b[0m\n\u001b[1;32m    643\u001b[0m \u001b[0;34m\u001b[0m\u001b[0m\n\u001b[1;32m    644\u001b[0m             \u001b[0ms\u001b[0m \u001b[0;34m=\u001b[0m \u001b[0mcom\u001b[0m\u001b[0;34m.\u001b[0m\u001b[0mmaybe_box_datetimelike\u001b[0m\u001b[0;34m(\u001b[0m\u001b[0ms\u001b[0m\u001b[0;34m)\u001b[0m\u001b[0;34m\u001b[0m\u001b[0;34m\u001b[0m\u001b[0m\n\u001b[0;32m--> 645\u001b[0;31m             \u001b[0;32mreturn\u001b[0m \u001b[0m_compare_or_regex_search\u001b[0m\u001b[0;34m(\u001b[0m\u001b[0mvalues\u001b[0m\u001b[0;34m,\u001b[0m \u001b[0ms\u001b[0m\u001b[0;34m,\u001b[0m \u001b[0mregex\u001b[0m\u001b[0;34m,\u001b[0m \u001b[0mmask\u001b[0m\u001b[0;34m)\u001b[0m\u001b[0;34m\u001b[0m\u001b[0;34m\u001b[0m\u001b[0m\n\u001b[0m\u001b[1;32m    646\u001b[0m \u001b[0;34m\u001b[0m\u001b[0m\n\u001b[1;32m    647\u001b[0m         \u001b[0;31m# Calculate the mask once, prior to the call of comp\u001b[0m\u001b[0;34m\u001b[0m\u001b[0;34m\u001b[0m\u001b[0;34m\u001b[0m\u001b[0m\n",
            "\u001b[0;32m/usr/local/lib/python3.7/dist-packages/pandas/core/internals/managers.py\u001b[0m in \u001b[0;36m_compare_or_regex_search\u001b[0;34m(a, b, regex, mask)\u001b[0m\n\u001b[1;32m   1999\u001b[0m     \u001b[0;32mif\u001b[0m \u001b[0mis_datetimelike_v_numeric\u001b[0m\u001b[0;34m(\u001b[0m\u001b[0ma\u001b[0m\u001b[0;34m,\u001b[0m \u001b[0mb\u001b[0m\u001b[0;34m)\u001b[0m \u001b[0;32mor\u001b[0m \u001b[0mis_numeric_v_string_like\u001b[0m\u001b[0;34m(\u001b[0m\u001b[0ma\u001b[0m\u001b[0;34m,\u001b[0m \u001b[0mb\u001b[0m\u001b[0;34m)\u001b[0m\u001b[0;34m:\u001b[0m\u001b[0;34m\u001b[0m\u001b[0;34m\u001b[0m\u001b[0m\n\u001b[1;32m   2000\u001b[0m         \u001b[0;31m# GH#29553 avoid deprecation warnings from numpy\u001b[0m\u001b[0;34m\u001b[0m\u001b[0;34m\u001b[0m\u001b[0;34m\u001b[0m\u001b[0m\n\u001b[0;32m-> 2001\u001b[0;31m         \u001b[0m_check_comparison_types\u001b[0m\u001b[0;34m(\u001b[0m\u001b[0;32mFalse\u001b[0m\u001b[0;34m,\u001b[0m \u001b[0ma\u001b[0m\u001b[0;34m,\u001b[0m \u001b[0mb\u001b[0m\u001b[0;34m)\u001b[0m\u001b[0;34m\u001b[0m\u001b[0;34m\u001b[0m\u001b[0m\n\u001b[0m\u001b[1;32m   2002\u001b[0m         \u001b[0;32mreturn\u001b[0m \u001b[0;32mFalse\u001b[0m\u001b[0;34m\u001b[0m\u001b[0;34m\u001b[0m\u001b[0m\n\u001b[1;32m   2003\u001b[0m \u001b[0;34m\u001b[0m\u001b[0m\n",
            "\u001b[0;32m/usr/local/lib/python3.7/dist-packages/pandas/core/internals/managers.py\u001b[0m in \u001b[0;36m_check_comparison_types\u001b[0;34m(result, a, b)\u001b[0m\n\u001b[1;32m   1979\u001b[0m \u001b[0;34m\u001b[0m\u001b[0m\n\u001b[1;32m   1980\u001b[0m             raise TypeError(\n\u001b[0;32m-> 1981\u001b[0;31m                 \u001b[0;34mf\"Cannot compare types {repr(type_names[0])} and {repr(type_names[1])}\"\u001b[0m\u001b[0;34m\u001b[0m\u001b[0;34m\u001b[0m\u001b[0m\n\u001b[0m\u001b[1;32m   1982\u001b[0m             )\n\u001b[1;32m   1983\u001b[0m \u001b[0;34m\u001b[0m\u001b[0m\n",
            "\u001b[0;31mTypeError\u001b[0m: Cannot compare types 'ndarray(dtype=int64)' and 'str'"
          ]
        }
      ]
    },
    {
      "cell_type": "code",
      "metadata": {
        "id": "5sqpmNfj4WK7"
      },
      "source": [
        "df_test['cuisine'] = df_test.cuisine.replace(['Mediterranean','Italian','North Indian','Continental','Modern Indian','European','Pizza','Grill','Finger Food','Mexican','Japanese','Asian'\n",
        ",'Healthy Food','Indian','Cafe','Fast Food','Chinese','American','Mughlai','South Indian','Spanish','Lebanese','Burger','Desserts','Seafood','Salad'\n",
        ",'Arabian','Modern Australian','Turkish','Greek','Cantonese','Dim Sum','Tea','Yum Cha','Fusion','Sushi','Beverages','Pan Asian','Thai','Goan','North Eastern','Parsi','Iranian','Juices','Sandwich','Street Food'\n",
        ",'Biryani','Persian','Coffee and Tea','Bakery','Rolls','Ice Cream','Bar Food','Contemporary','British','Kebab','BBQ','Burmese'],[1,2,3,4,5,6,7,8,9,10,11,12,13,14,15,16,17,18,19,20,21,22,23,24,25,26,27,28,29,30,31,32,33,34,35,36,37,38,39,40,41,42,43,44,45,46,47,48,49,50,51,52,53,54,55,56,57,58])"
      ],
      "execution_count": null,
      "outputs": []
    },
    {
      "cell_type": "code",
      "metadata": {
        "colab": {
          "base_uri": "https://localhost:8080/"
        },
        "id": "JXEuXcL1w0fx",
        "outputId": "28d18266-5b08-49ac-c98b-13991b4f422a"
      },
      "source": [
        "print(df_test.homedelivery.unique())\n",
        "print(df_test.smoking.unique())\n",
        "print(df_test.alcohol.unique())\n",
        "print(df_test.wifi.unique())\n",
        "print(df_test.valetparking.unique())\n",
        "# print(df_test.rooftop.unique())\n",
        "print(df_test.cuisine.unique())"
      ],
      "execution_count": null,
      "outputs": [
        {
          "output_type": "stream",
          "name": "stdout",
          "text": [
            "[1 2]\n",
            "[2 1]\n",
            "[2 1]\n",
            "[2 1]\n",
            "[2 1]\n",
            "[ 1  2  3  4  5  6  7  8  9 10 11 12 13 14 15 16 17 18 19 20 21 22 23 24\n",
            " 25 26 27 28 29 30 31 32 33 34 35 36 37 38 39 40 41 42 43 44 45 46 47 48\n",
            " 49 50 51 52 53 54 55 56 57 58]\n"
          ]
        }
      ]
    },
    {
      "cell_type": "code",
      "metadata": {
        "colab": {
          "base_uri": "https://localhost:8080/"
        },
        "id": "XNwFth-v050T",
        "outputId": "8eb88cc5-965d-4589-e25e-7c627d5763ca"
      },
      "source": [
        "print(len(df_test.cuisine.unique()))"
      ],
      "execution_count": null,
      "outputs": [
        {
          "output_type": "stream",
          "name": "stdout",
          "text": [
            "58\n"
          ]
        }
      ]
    },
    {
      "cell_type": "code",
      "metadata": {
        "colab": {
          "base_uri": "https://localhost:8080/",
          "height": 359
        },
        "id": "00R9nMb_1914",
        "outputId": "03758c97-8c46-4cad-b6e8-5e186991fc45"
      },
      "source": [
        "df_test.head(10)"
      ],
      "execution_count": null,
      "outputs": [
        {
          "output_type": "execute_result",
          "data": {
            "text/html": [
              "<div>\n",
              "<style scoped>\n",
              "    .dataframe tbody tr th:only-of-type {\n",
              "        vertical-align: middle;\n",
              "    }\n",
              "\n",
              "    .dataframe tbody tr th {\n",
              "        vertical-align: top;\n",
              "    }\n",
              "\n",
              "    .dataframe thead th {\n",
              "        text-align: right;\n",
              "    }\n",
              "</style>\n",
              "<table border=\"1\" class=\"dataframe\">\n",
              "  <thead>\n",
              "    <tr style=\"text-align: right;\">\n",
              "      <th></th>\n",
              "      <th>id</th>\n",
              "      <th>rid</th>\n",
              "      <th>homedelivery</th>\n",
              "      <th>smoking</th>\n",
              "      <th>alcohol</th>\n",
              "      <th>wifi</th>\n",
              "      <th>valetparking</th>\n",
              "      <th>rooftop</th>\n",
              "      <th>cuisine</th>\n",
              "    </tr>\n",
              "  </thead>\n",
              "  <tbody>\n",
              "    <tr>\n",
              "      <th>0</th>\n",
              "      <td>0</td>\n",
              "      <td>0</td>\n",
              "      <td>1</td>\n",
              "      <td>2</td>\n",
              "      <td>2</td>\n",
              "      <td>2</td>\n",
              "      <td>2</td>\n",
              "      <td>no</td>\n",
              "      <td>1</td>\n",
              "    </tr>\n",
              "    <tr>\n",
              "      <th>1</th>\n",
              "      <td>1</td>\n",
              "      <td>0</td>\n",
              "      <td>1</td>\n",
              "      <td>2</td>\n",
              "      <td>2</td>\n",
              "      <td>1</td>\n",
              "      <td>2</td>\n",
              "      <td>no</td>\n",
              "      <td>2</td>\n",
              "    </tr>\n",
              "    <tr>\n",
              "      <th>2</th>\n",
              "      <td>2</td>\n",
              "      <td>0</td>\n",
              "      <td>1</td>\n",
              "      <td>2</td>\n",
              "      <td>2</td>\n",
              "      <td>1</td>\n",
              "      <td>2</td>\n",
              "      <td>no</td>\n",
              "      <td>3</td>\n",
              "    </tr>\n",
              "    <tr>\n",
              "      <th>3</th>\n",
              "      <td>3</td>\n",
              "      <td>0</td>\n",
              "      <td>2</td>\n",
              "      <td>1</td>\n",
              "      <td>1</td>\n",
              "      <td>1</td>\n",
              "      <td>1</td>\n",
              "      <td>no</td>\n",
              "      <td>4</td>\n",
              "    </tr>\n",
              "    <tr>\n",
              "      <th>4</th>\n",
              "      <td>4</td>\n",
              "      <td>1</td>\n",
              "      <td>1</td>\n",
              "      <td>2</td>\n",
              "      <td>2</td>\n",
              "      <td>2</td>\n",
              "      <td>2</td>\n",
              "      <td>no</td>\n",
              "      <td>5</td>\n",
              "    </tr>\n",
              "    <tr>\n",
              "      <th>5</th>\n",
              "      <td>5</td>\n",
              "      <td>1</td>\n",
              "      <td>1</td>\n",
              "      <td>2</td>\n",
              "      <td>2</td>\n",
              "      <td>1</td>\n",
              "      <td>2</td>\n",
              "      <td>no</td>\n",
              "      <td>6</td>\n",
              "    </tr>\n",
              "    <tr>\n",
              "      <th>6</th>\n",
              "      <td>6</td>\n",
              "      <td>1</td>\n",
              "      <td>1</td>\n",
              "      <td>2</td>\n",
              "      <td>2</td>\n",
              "      <td>2</td>\n",
              "      <td>2</td>\n",
              "      <td>yes</td>\n",
              "      <td>7</td>\n",
              "    </tr>\n",
              "    <tr>\n",
              "      <th>7</th>\n",
              "      <td>7</td>\n",
              "      <td>1</td>\n",
              "      <td>1</td>\n",
              "      <td>1</td>\n",
              "      <td>2</td>\n",
              "      <td>1</td>\n",
              "      <td>1</td>\n",
              "      <td>yes</td>\n",
              "      <td>8</td>\n",
              "    </tr>\n",
              "    <tr>\n",
              "      <th>8</th>\n",
              "      <td>8</td>\n",
              "      <td>2</td>\n",
              "      <td>1</td>\n",
              "      <td>2</td>\n",
              "      <td>2</td>\n",
              "      <td>2</td>\n",
              "      <td>2</td>\n",
              "      <td>no</td>\n",
              "      <td>9</td>\n",
              "    </tr>\n",
              "    <tr>\n",
              "      <th>9</th>\n",
              "      <td>9</td>\n",
              "      <td>2</td>\n",
              "      <td>1</td>\n",
              "      <td>1</td>\n",
              "      <td>1</td>\n",
              "      <td>1</td>\n",
              "      <td>1</td>\n",
              "      <td>no</td>\n",
              "      <td>4</td>\n",
              "    </tr>\n",
              "  </tbody>\n",
              "</table>\n",
              "</div>"
            ],
            "text/plain": [
              "   id  rid  homedelivery  smoking  ...  wifi  valetparking  rooftop   cuisine\n",
              "0   0    0             1        2  ...     2             2         no       1\n",
              "1   1    0             1        2  ...     1             2         no       2\n",
              "2   2    0             1        2  ...     1             2         no       3\n",
              "3   3    0             2        1  ...     1             1         no       4\n",
              "4   4    1             1        2  ...     2             2         no       5\n",
              "5   5    1             1        2  ...     1             2         no       6\n",
              "6   6    1             1        2  ...     2             2        yes       7\n",
              "7   7    1             1        1  ...     1             1        yes       8\n",
              "8   8    2             1        2  ...     2             2         no       9\n",
              "9   9    2             1        1  ...     1             1         no       4\n",
              "\n",
              "[10 rows x 9 columns]"
            ]
          },
          "metadata": {},
          "execution_count": 73
        }
      ]
    },
    {
      "cell_type": "code",
      "metadata": {
        "id": "qDrcpOPP4LR1"
      },
      "source": [
        "x = df_test[['homedelivery','smoking','alcohol','wifi','valetparking']]\n",
        "y = df_test[['cuisine']]"
      ],
      "execution_count": null,
      "outputs": []
    },
    {
      "cell_type": "code",
      "metadata": {
        "colab": {
          "base_uri": "https://localhost:8080/"
        },
        "id": "Kx5Y_kOz5PLK",
        "outputId": "64bef804-931d-4c08-c0cb-26cba633501c"
      },
      "source": [
        "train_x, test_x, train_y, test_y = train_test_split(x, y, train_size=0.7, random_state=10)\n",
        "print(train_x.count())"
      ],
      "execution_count": null,
      "outputs": [
        {
          "output_type": "stream",
          "name": "stdout",
          "text": [
            "homedelivery    350\n",
            "smoking         350\n",
            "alcohol         350\n",
            "wifi            350\n",
            "valetparking    350\n",
            "dtype: int64\n"
          ]
        }
      ]
    },
    {
      "cell_type": "code",
      "metadata": {
        "colab": {
          "base_uri": "https://localhost:8080/"
        },
        "id": "BEMOi76H6P_B",
        "outputId": "a1359990-643a-4dd4-9b0f-60f4719a8449"
      },
      "source": [
        "print(train_y.count())"
      ],
      "execution_count": null,
      "outputs": [
        {
          "output_type": "stream",
          "name": "stdout",
          "text": [
            "cuisine    350\n",
            "dtype: int64\n"
          ]
        }
      ]
    },
    {
      "cell_type": "code",
      "metadata": {
        "colab": {
          "base_uri": "https://localhost:8080/"
        },
        "id": "t9yg4bfe6VUZ",
        "outputId": "1e0e79d4-ac62-44ee-8763-28f27a136488"
      },
      "source": [
        "print(test_x.count())"
      ],
      "execution_count": null,
      "outputs": [
        {
          "output_type": "stream",
          "name": "stdout",
          "text": [
            "homedelivery    151\n",
            "smoking         151\n",
            "alcohol         151\n",
            "wifi            151\n",
            "valetparking    151\n",
            "dtype: int64\n"
          ]
        }
      ]
    },
    {
      "cell_type": "code",
      "metadata": {
        "colab": {
          "base_uri": "https://localhost:8080/"
        },
        "id": "-X4qWv5i6YUa",
        "outputId": "e57ddbd6-fc87-4492-d2a3-8ca26945e22c"
      },
      "source": [
        "print(test_x.count())"
      ],
      "execution_count": null,
      "outputs": [
        {
          "output_type": "stream",
          "name": "stdout",
          "text": [
            "homedelivery    151\n",
            "smoking         151\n",
            "alcohol         151\n",
            "wifi            151\n",
            "valetparking    151\n",
            "dtype: int64\n"
          ]
        }
      ]
    },
    {
      "cell_type": "code",
      "metadata": {
        "colab": {
          "base_uri": "https://localhost:8080/"
        },
        "id": "G5Oungkf6aGl",
        "outputId": "a4228c56-7027-4fe8-b5eb-0f326bde68fa"
      },
      "source": [
        "Treemodel = tree.DecisionTreeClassifier()\n",
        "KNNmodel = KNeighborsClassifier(n_neighbors=5)\n",
        "\n",
        "Treemodel = Treemodel.fit(train_x, train_y)\n",
        "KNNmodel = KNNmodel.fit(train_x, train_y)"
      ],
      "execution_count": null,
      "outputs": [
        {
          "output_type": "stream",
          "name": "stderr",
          "text": [
            "/usr/local/lib/python3.7/dist-packages/ipykernel_launcher.py:5: DataConversionWarning: A column-vector y was passed when a 1d array was expected. Please change the shape of y to (n_samples, ), for example using ravel().\n",
            "  \"\"\"\n"
          ]
        }
      ]
    },
    {
      "cell_type": "code",
      "metadata": {
        "colab": {
          "base_uri": "https://localhost:8080/"
        },
        "id": "t54uazl17TNm",
        "outputId": "04b1d58e-5523-442e-9f31-8f1e0fe7dc61"
      },
      "source": [
        "TreeScore = Treemodel.score(test_x, test_y)\n",
        "KNNScore = KNNmodel.score(test_x, test_y)\n",
        "print(TreeScore, KNNScore)"
      ],
      "execution_count": null,
      "outputs": [
        {
          "output_type": "stream",
          "name": "stdout",
          "text": [
            "0.059602649006622516 0.08609271523178808\n"
          ]
        }
      ]
    },
    {
      "cell_type": "code",
      "metadata": {
        "colab": {
          "base_uri": "https://localhost:8080/"
        },
        "id": "mXSyHMxZIjzv",
        "outputId": "ed94629c-469d-4066-9dcc-a984e40fbe05"
      },
      "source": [
        "another = [[1,2,2,2,2]]\n",
        "print(Treemodel.predict(another))"
      ],
      "execution_count": null,
      "outputs": [
        {
          "output_type": "stream",
          "name": "stdout",
          "text": [
            "[3]\n"
          ]
        }
      ]
    },
    {
      "cell_type": "markdown",
      "metadata": {
        "id": "JiK950k_BhSU"
      },
      "source": [
        "### ข้อมูลจากแบบสอบถาม\n"
      ]
    },
    {
      "cell_type": "code",
      "metadata": {
        "colab": {
          "base_uri": "https://localhost:8080/",
          "height": 581
        },
        "id": "BaQuEGgDBfAJ",
        "outputId": "23e285aa-b2f1-4e25-e109-d1c0d86b3002"
      },
      "source": [
        "data.head(5)"
      ],
      "execution_count": null,
      "outputs": [
        {
          "output_type": "execute_result",
          "data": {
            "text/html": [
              "<div>\n",
              "<style scoped>\n",
              "    .dataframe tbody tr th:only-of-type {\n",
              "        vertical-align: middle;\n",
              "    }\n",
              "\n",
              "    .dataframe tbody tr th {\n",
              "        vertical-align: top;\n",
              "    }\n",
              "\n",
              "    .dataframe thead th {\n",
              "        text-align: right;\n",
              "    }\n",
              "</style>\n",
              "<table border=\"1\" class=\"dataframe\">\n",
              "  <thead>\n",
              "    <tr style=\"text-align: right;\">\n",
              "      <th></th>\n",
              "      <th>Timestamp</th>\n",
              "      <th>Username</th>\n",
              "      <th>ชื่อ นามสกุล</th>\n",
              "      <th>เพศ</th>\n",
              "      <th>วันเกิด</th>\n",
              "      <th>เดินทาง</th>\n",
              "      <th>เที่ยวแบบไหน</th>\n",
              "      <th>ชอบเที่ยวมากที่สุด</th>\n",
              "      <th>ชอบเที่ยวปานกลาง</th>\n",
              "      <th>ค่อนข้างไม่ชอบเที่ยว</th>\n",
              "      <th>ชอบพักมากที่สุด</th>\n",
              "      <th>ชอบพักปานกลาง</th>\n",
              "      <th>ค่อนข้างไม่ชอบพัก</th>\n",
              "      <th>เหตุผลที่ใช้ในการเลือกที่พัก</th>\n",
              "      <th>ชอบกินมากที่สุด</th>\n",
              "      <th>ชอบกินปานกลาง</th>\n",
              "      <th>ค่อนข้างไม่ชอบกิน</th>\n",
              "    </tr>\n",
              "  </thead>\n",
              "  <tbody>\n",
              "    <tr>\n",
              "      <th>0</th>\n",
              "      <td>2021/10/11 11:20:24 PM GMT+7</td>\n",
              "      <td>61010972@kmitl.ac.th</td>\n",
              "      <td>วิภาดา มีสกุล</td>\n",
              "      <td>หญิง</td>\n",
              "      <td>10/12/2021</td>\n",
              "      <td>รถยนต์ส่วนตัว</td>\n",
              "      <td>เที่ยวคนเดียว</td>\n",
              "      <td>วัด</td>\n",
              "      <td>ตลาด</td>\n",
              "      <td>สถานบันเทิง</td>\n",
              "      <td>โรงแรม</td>\n",
              "      <td>แคมป์ปิ้ง</td>\n",
              "      <td>บังกะโล</td>\n",
              "      <td>ห้องนวด;ซาวน่า;ราคา</td>\n",
              "      <td>บะหมี่</td>\n",
              "      <td>ฟาสต์ฟู้ด</td>\n",
              "      <td>อาหารตามสั่ง</td>\n",
              "    </tr>\n",
              "    <tr>\n",
              "      <th>1</th>\n",
              "      <td>2021/10/14 12:48:17 PM GMT+7</td>\n",
              "      <td>61010260@kmitl.ac.th</td>\n",
              "      <td>ญาโณทัย อาปานุติกุล</td>\n",
              "      <td>ชาย</td>\n",
              "      <td>1/16/2543</td>\n",
              "      <td>รถยนต์ส่วนตัว</td>\n",
              "      <td>เที่ยวกับเพื่อน</td>\n",
              "      <td>สวนสาธารณะ</td>\n",
              "      <td>เขื่อน</td>\n",
              "      <td>สถานบันเทิง</td>\n",
              "      <td>รีสอร์ท</td>\n",
              "      <td>โรงแรม</td>\n",
              "      <td>บังกะโล</td>\n",
              "      <td>สระว่ายน้ำหรือสปา;อาหารเช้า;อินเตอร์เน็ต;ราคา;...</td>\n",
              "      <td>สเต๊ก</td>\n",
              "      <td>อาหารข้างทาง (Street food)</td>\n",
              "      <td>เบเกอรี่</td>\n",
              "    </tr>\n",
              "    <tr>\n",
              "      <th>2</th>\n",
              "      <td>2021/10/14 12:48:36 PM GMT+7</td>\n",
              "      <td>aomsaitan15@gmail.com</td>\n",
              "      <td>สายธาร กิตติบัลลังก์กุล</td>\n",
              "      <td>หญิง</td>\n",
              "      <td>10/15/1999</td>\n",
              "      <td>รถยนต์ส่วนตัว</td>\n",
              "      <td>เที่ยวคนเดียว</td>\n",
              "      <td>ตลาด</td>\n",
              "      <td>สวนสาธารณะ</td>\n",
              "      <td>ห้างสรรพสินค้า</td>\n",
              "      <td>โรงแรม</td>\n",
              "      <td>แคมป์ปิ้ง</td>\n",
              "      <td>บังกะโล</td>\n",
              "      <td>ที่จอดรถ;อาหารเช้า;อินเตอร์เน็ต;ราคา;บรรยากาศ;...</td>\n",
              "      <td>คาเฟ่</td>\n",
              "      <td>อาหารทะเล</td>\n",
              "      <td>ฟาสต์ฟู้ด</td>\n",
              "    </tr>\n",
              "    <tr>\n",
              "      <th>3</th>\n",
              "      <td>2021/10/14 12:54:23 PM GMT+7</td>\n",
              "      <td>jirayu2122@gmail.com</td>\n",
              "      <td>จิรายุ สุดชดา</td>\n",
              "      <td>ชาย</td>\n",
              "      <td>1/11/2543</td>\n",
              "      <td>รถยนต์ส่วนตัว</td>\n",
              "      <td>เที่ยวกับครอบครัว</td>\n",
              "      <td>ห้างสรรพสินค้า</td>\n",
              "      <td>เขื่อน</td>\n",
              "      <td>สวนสัตว์</td>\n",
              "      <td>รีสอร์ท</td>\n",
              "      <td>โรงแรม</td>\n",
              "      <td>แคมป์ปิ้ง</td>\n",
              "      <td>ที่จอดรถ;อาหารเช้า;อินเตอร์เน็ต;ราคา;ธรรมชาติ</td>\n",
              "      <td>อาหารตามสั่ง</td>\n",
              "      <td>อาหารทะเล</td>\n",
              "      <td>คาเฟ่</td>\n",
              "    </tr>\n",
              "    <tr>\n",
              "      <th>4</th>\n",
              "      <td>2021/10/14 12:55:41 PM GMT+7</td>\n",
              "      <td>chalong.cir@gmail.com</td>\n",
              "      <td>ฉลอง เพชรพราว</td>\n",
              "      <td>ชาย</td>\n",
              "      <td>3/31/1966</td>\n",
              "      <td>รถยนต์ส่วนตัว</td>\n",
              "      <td>เที่ยวกับครอบครัว</td>\n",
              "      <td>วัด</td>\n",
              "      <td>ตลาด</td>\n",
              "      <td>ห้างสรรพสินค้า</td>\n",
              "      <td>โรงแรม</td>\n",
              "      <td>บ้านพัก</td>\n",
              "      <td>บังกะโล</td>\n",
              "      <td>อยู่ใกล้เมือง</td>\n",
              "      <td>อาหารข้างทาง (Street food)</td>\n",
              "      <td>ข้าวราดแกง</td>\n",
              "      <td>พิซซ่า</td>\n",
              "    </tr>\n",
              "  </tbody>\n",
              "</table>\n",
              "</div>"
            ],
            "text/plain": [
              "                      Timestamp  ... ค่อนข้างไม่ชอบกิน\n",
              "0  2021/10/11 11:20:24 PM GMT+7  ...      อาหารตามสั่ง\n",
              "1  2021/10/14 12:48:17 PM GMT+7  ...          เบเกอรี่\n",
              "2  2021/10/14 12:48:36 PM GMT+7  ...         ฟาสต์ฟู้ด\n",
              "3  2021/10/14 12:54:23 PM GMT+7  ...             คาเฟ่\n",
              "4  2021/10/14 12:55:41 PM GMT+7  ...            พิซซ่า\n",
              "\n",
              "[5 rows x 17 columns]"
            ]
          },
          "metadata": {},
          "execution_count": 109
        }
      ]
    },
    {
      "cell_type": "code",
      "metadata": {
        "colab": {
          "base_uri": "https://localhost:8080/"
        },
        "id": "_mfpXFOvDdcK",
        "outputId": "4f2c425e-59a5-4004-96c5-968e7ce6c0b1"
      },
      "source": [
        "data.info()"
      ],
      "execution_count": null,
      "outputs": [
        {
          "output_type": "stream",
          "name": "stdout",
          "text": [
            "<class 'pandas.core.frame.DataFrame'>\n",
            "RangeIndex: 19 entries, 0 to 18\n",
            "Data columns (total 17 columns):\n",
            " #   Column                        Non-Null Count  Dtype \n",
            "---  ------                        --------------  ----- \n",
            " 0   Timestamp                     19 non-null     object\n",
            " 1   Username                      19 non-null     object\n",
            " 2   ชื่อ นามสกุล                  19 non-null     object\n",
            " 3   เพศ                           19 non-null     object\n",
            " 4   วันเกิด                       19 non-null     object\n",
            " 5   เดินทาง                       19 non-null     object\n",
            " 6   เที่ยวแบบไหน                  19 non-null     object\n",
            " 7   ชอบเที่ยวมากที่สุด            19 non-null     object\n",
            " 8   ชอบเที่ยวปานกลาง              19 non-null     object\n",
            " 9   ค่อนข้างไม่ชอบเที่ยว          19 non-null     object\n",
            " 10  ชอบพักมากที่สุด               19 non-null     object\n",
            " 11  ชอบพักปานกลาง                 19 non-null     object\n",
            " 12  ค่อนข้างไม่ชอบพัก             19 non-null     object\n",
            " 13  เหตุผลที่ใช้ในการเลือกที่พัก  19 non-null     object\n",
            " 14  ชอบกินมากที่สุด               19 non-null     object\n",
            " 15  ชอบกินปานกลาง                 19 non-null     object\n",
            " 16  ค่อนข้างไม่ชอบกิน             19 non-null     object\n",
            "dtypes: object(17)\n",
            "memory usage: 2.6+ KB\n"
          ]
        }
      ]
    },
    {
      "cell_type": "code",
      "metadata": {
        "colab": {
          "base_uri": "https://localhost:8080/"
        },
        "id": "aGK9TU62Dn7O",
        "outputId": "6978dc81-b51d-4f6d-b5de-2cf6fcc42b97"
      },
      "source": [
        "print(data.เพศ.unique())\n",
        "print(data.เดินทาง.unique())\n",
        "print(data.เที่ยวแบบไหน.unique())\n",
        "print(data.ชอบเที่ยวมากที่สุด.unique())"
      ],
      "execution_count": null,
      "outputs": [
        {
          "output_type": "stream",
          "name": "stdout",
          "text": [
            "['หญิง' 'ชาย']\n",
            "['รถยนต์ส่วนตัว' 'รถจักรยานยนต์' 'รถโดยสารประจำทาง']\n",
            "['เที่ยวคนเดียว' 'เที่ยวกับเพื่อน' 'เที่ยวกับครอบครัว']\n",
            "['วัด' 'สวนสาธารณะ' 'ตลาด' 'ห้างสรรพสินค้า' 'สวนสัตว์' 'โบราณสถาน'\n",
            " 'พิพิธภัณฑ์']\n"
          ]
        }
      ]
    },
    {
      "cell_type": "code",
      "metadata": {
        "colab": {
          "base_uri": "https://localhost:8080/"
        },
        "id": "xHau_q4ND_wD",
        "outputId": "0ccaba86-b5f7-40d7-b039-c161a0ed6bff"
      },
      "source": [
        "print(len(data.ชอบเที่ยวมากที่สุด.unique()))"
      ],
      "execution_count": null,
      "outputs": [
        {
          "output_type": "stream",
          "name": "stdout",
          "text": [
            "7\n"
          ]
        }
      ]
    },
    {
      "cell_type": "code",
      "metadata": {
        "id": "trtgzGMRFrWN"
      },
      "source": [
        "data['เพศ'] = data.เพศ.replace(['หญิง','ชาย'],[1,2])\n",
        "data['เดินทาง'] = data.เดินทาง.replace(['รถยนต์ส่วนตัว','รถจักรยานยนต์','รถโดยสารประจำทาง'],[1,2,3])\n",
        "data['เที่ยวแบบไหน'] = data.เที่ยวแบบไหน.replace(['เที่ยวคนเดียว','เที่ยวกับเพื่อน','เที่ยวกับครอบครัว'],[1,2,3])"
      ],
      "execution_count": null,
      "outputs": []
    },
    {
      "cell_type": "code",
      "metadata": {
        "id": "DTHTdXGUFtPj"
      },
      "source": [
        "data['ชอบเที่ยวมากที่สุด'] = data.ชอบเที่ยวมากที่สุด.replace(['วัด','สวนสาธารณะ','ตลาด' ,'ห้างสรรพสินค้า','สวนสัตว์','โบราณสถาน','พิพิธภัณฑ์'],[1,2,3,4,5,6,7])"
      ],
      "execution_count": null,
      "outputs": []
    },
    {
      "cell_type": "code",
      "metadata": {
        "colab": {
          "base_uri": "https://localhost:8080/",
          "height": 581
        },
        "id": "nMY_eo6UFLy9",
        "outputId": "29e4d259-5a3c-4786-f9dc-182594c5d873"
      },
      "source": [
        "data.head(5)"
      ],
      "execution_count": null,
      "outputs": [
        {
          "output_type": "execute_result",
          "data": {
            "text/html": [
              "<div>\n",
              "<style scoped>\n",
              "    .dataframe tbody tr th:only-of-type {\n",
              "        vertical-align: middle;\n",
              "    }\n",
              "\n",
              "    .dataframe tbody tr th {\n",
              "        vertical-align: top;\n",
              "    }\n",
              "\n",
              "    .dataframe thead th {\n",
              "        text-align: right;\n",
              "    }\n",
              "</style>\n",
              "<table border=\"1\" class=\"dataframe\">\n",
              "  <thead>\n",
              "    <tr style=\"text-align: right;\">\n",
              "      <th></th>\n",
              "      <th>Timestamp</th>\n",
              "      <th>Username</th>\n",
              "      <th>ชื่อ นามสกุล</th>\n",
              "      <th>เพศ</th>\n",
              "      <th>วันเกิด</th>\n",
              "      <th>เดินทาง</th>\n",
              "      <th>เที่ยวแบบไหน</th>\n",
              "      <th>ชอบเที่ยวมากที่สุด</th>\n",
              "      <th>ชอบเที่ยวปานกลาง</th>\n",
              "      <th>ค่อนข้างไม่ชอบเที่ยว</th>\n",
              "      <th>ชอบพักมากที่สุด</th>\n",
              "      <th>ชอบพักปานกลาง</th>\n",
              "      <th>ค่อนข้างไม่ชอบพัก</th>\n",
              "      <th>เหตุผลที่ใช้ในการเลือกที่พัก</th>\n",
              "      <th>ชอบกินมากที่สุด</th>\n",
              "      <th>ชอบกินปานกลาง</th>\n",
              "      <th>ค่อนข้างไม่ชอบกิน</th>\n",
              "    </tr>\n",
              "  </thead>\n",
              "  <tbody>\n",
              "    <tr>\n",
              "      <th>0</th>\n",
              "      <td>2021/10/11 11:20:24 PM GMT+7</td>\n",
              "      <td>61010972@kmitl.ac.th</td>\n",
              "      <td>วิภาดา มีสกุล</td>\n",
              "      <td>1</td>\n",
              "      <td>10/12/2021</td>\n",
              "      <td>1</td>\n",
              "      <td>1</td>\n",
              "      <td>1</td>\n",
              "      <td>ตลาด</td>\n",
              "      <td>สถานบันเทิง</td>\n",
              "      <td>โรงแรม</td>\n",
              "      <td>แคมป์ปิ้ง</td>\n",
              "      <td>บังกะโล</td>\n",
              "      <td>ห้องนวด;ซาวน่า;ราคา</td>\n",
              "      <td>บะหมี่</td>\n",
              "      <td>ฟาสต์ฟู้ด</td>\n",
              "      <td>อาหารตามสั่ง</td>\n",
              "    </tr>\n",
              "    <tr>\n",
              "      <th>1</th>\n",
              "      <td>2021/10/14 12:48:17 PM GMT+7</td>\n",
              "      <td>61010260@kmitl.ac.th</td>\n",
              "      <td>ญาโณทัย อาปานุติกุล</td>\n",
              "      <td>2</td>\n",
              "      <td>1/16/2543</td>\n",
              "      <td>1</td>\n",
              "      <td>2</td>\n",
              "      <td>2</td>\n",
              "      <td>เขื่อน</td>\n",
              "      <td>สถานบันเทิง</td>\n",
              "      <td>รีสอร์ท</td>\n",
              "      <td>โรงแรม</td>\n",
              "      <td>บังกะโล</td>\n",
              "      <td>สระว่ายน้ำหรือสปา;อาหารเช้า;อินเตอร์เน็ต;ราคา;...</td>\n",
              "      <td>สเต๊ก</td>\n",
              "      <td>อาหารข้างทาง (Street food)</td>\n",
              "      <td>เบเกอรี่</td>\n",
              "    </tr>\n",
              "    <tr>\n",
              "      <th>2</th>\n",
              "      <td>2021/10/14 12:48:36 PM GMT+7</td>\n",
              "      <td>aomsaitan15@gmail.com</td>\n",
              "      <td>สายธาร กิตติบัลลังก์กุล</td>\n",
              "      <td>1</td>\n",
              "      <td>10/15/1999</td>\n",
              "      <td>1</td>\n",
              "      <td>1</td>\n",
              "      <td>3</td>\n",
              "      <td>สวนสาธารณะ</td>\n",
              "      <td>ห้างสรรพสินค้า</td>\n",
              "      <td>โรงแรม</td>\n",
              "      <td>แคมป์ปิ้ง</td>\n",
              "      <td>บังกะโล</td>\n",
              "      <td>ที่จอดรถ;อาหารเช้า;อินเตอร์เน็ต;ราคา;บรรยากาศ;...</td>\n",
              "      <td>คาเฟ่</td>\n",
              "      <td>อาหารทะเล</td>\n",
              "      <td>ฟาสต์ฟู้ด</td>\n",
              "    </tr>\n",
              "    <tr>\n",
              "      <th>3</th>\n",
              "      <td>2021/10/14 12:54:23 PM GMT+7</td>\n",
              "      <td>jirayu2122@gmail.com</td>\n",
              "      <td>จิรายุ สุดชดา</td>\n",
              "      <td>2</td>\n",
              "      <td>1/11/2543</td>\n",
              "      <td>1</td>\n",
              "      <td>3</td>\n",
              "      <td>4</td>\n",
              "      <td>เขื่อน</td>\n",
              "      <td>สวนสัตว์</td>\n",
              "      <td>รีสอร์ท</td>\n",
              "      <td>โรงแรม</td>\n",
              "      <td>แคมป์ปิ้ง</td>\n",
              "      <td>ที่จอดรถ;อาหารเช้า;อินเตอร์เน็ต;ราคา;ธรรมชาติ</td>\n",
              "      <td>อาหารตามสั่ง</td>\n",
              "      <td>อาหารทะเล</td>\n",
              "      <td>คาเฟ่</td>\n",
              "    </tr>\n",
              "    <tr>\n",
              "      <th>4</th>\n",
              "      <td>2021/10/14 12:55:41 PM GMT+7</td>\n",
              "      <td>chalong.cir@gmail.com</td>\n",
              "      <td>ฉลอง เพชรพราว</td>\n",
              "      <td>2</td>\n",
              "      <td>3/31/1966</td>\n",
              "      <td>1</td>\n",
              "      <td>3</td>\n",
              "      <td>1</td>\n",
              "      <td>ตลาด</td>\n",
              "      <td>ห้างสรรพสินค้า</td>\n",
              "      <td>โรงแรม</td>\n",
              "      <td>บ้านพัก</td>\n",
              "      <td>บังกะโล</td>\n",
              "      <td>อยู่ใกล้เมือง</td>\n",
              "      <td>อาหารข้างทาง (Street food)</td>\n",
              "      <td>ข้าวราดแกง</td>\n",
              "      <td>พิซซ่า</td>\n",
              "    </tr>\n",
              "  </tbody>\n",
              "</table>\n",
              "</div>"
            ],
            "text/plain": [
              "                      Timestamp  ... ค่อนข้างไม่ชอบกิน\n",
              "0  2021/10/11 11:20:24 PM GMT+7  ...      อาหารตามสั่ง\n",
              "1  2021/10/14 12:48:17 PM GMT+7  ...          เบเกอรี่\n",
              "2  2021/10/14 12:48:36 PM GMT+7  ...         ฟาสต์ฟู้ด\n",
              "3  2021/10/14 12:54:23 PM GMT+7  ...             คาเฟ่\n",
              "4  2021/10/14 12:55:41 PM GMT+7  ...            พิซซ่า\n",
              "\n",
              "[5 rows x 17 columns]"
            ]
          },
          "metadata": {},
          "execution_count": 122
        }
      ]
    },
    {
      "cell_type": "code",
      "metadata": {
        "id": "7Xxg6fgwF171"
      },
      "source": [
        "x = data[['เพศ','เดินทาง','เที่ยวแบบไหน']]\n",
        "y = data[['ชอบเที่ยวมากที่สุด']]"
      ],
      "execution_count": null,
      "outputs": []
    },
    {
      "cell_type": "code",
      "metadata": {
        "colab": {
          "base_uri": "https://localhost:8080/"
        },
        "id": "5vM9Vk1HGDnA",
        "outputId": "6844d388-87ae-47c1-c911-daba412896b8"
      },
      "source": [
        "train_x, test_x, train_y, test_y = train_test_split(x, y, train_size=0.7, random_state=10)\n",
        "print(train_x.count())"
      ],
      "execution_count": null,
      "outputs": [
        {
          "output_type": "stream",
          "name": "stdout",
          "text": [
            "เพศ             13\n",
            "เดินทาง         13\n",
            "เที่ยวแบบไหน    13\n",
            "dtype: int64\n"
          ]
        }
      ]
    },
    {
      "cell_type": "code",
      "metadata": {
        "colab": {
          "base_uri": "https://localhost:8080/"
        },
        "id": "Up10-xKZGGSs",
        "outputId": "6e78d877-da71-48a8-fd3f-983ed0ad229a"
      },
      "source": [
        "print(train_y.count())"
      ],
      "execution_count": null,
      "outputs": [
        {
          "output_type": "stream",
          "name": "stdout",
          "text": [
            "ชอบเที่ยวมากที่สุด    13\n",
            "dtype: int64\n"
          ]
        }
      ]
    },
    {
      "cell_type": "code",
      "metadata": {
        "colab": {
          "base_uri": "https://localhost:8080/"
        },
        "id": "Ls9XVM45GJBX",
        "outputId": "0c4f954f-55cd-426b-e1c0-35de21ea7e48"
      },
      "source": [
        "print(test_x.count())\n"
      ],
      "execution_count": null,
      "outputs": [
        {
          "output_type": "stream",
          "name": "stdout",
          "text": [
            "เพศ             6\n",
            "เดินทาง         6\n",
            "เที่ยวแบบไหน    6\n",
            "dtype: int64\n"
          ]
        }
      ]
    },
    {
      "cell_type": "code",
      "metadata": {
        "colab": {
          "base_uri": "https://localhost:8080/"
        },
        "id": "hByIH3zQGM2I",
        "outputId": "7b8256e1-666f-45ae-af39-1e3cba44a7e1"
      },
      "source": [
        "print(test_y.count())"
      ],
      "execution_count": null,
      "outputs": [
        {
          "output_type": "stream",
          "name": "stdout",
          "text": [
            "ชอบเที่ยวมากที่สุด    6\n",
            "dtype: int64\n"
          ]
        }
      ]
    },
    {
      "cell_type": "code",
      "metadata": {
        "colab": {
          "base_uri": "https://localhost:8080/"
        },
        "id": "3RbYrQWVGTqb",
        "outputId": "d974df2e-1d7c-428a-8842-71ff3fc3b0e3"
      },
      "source": [
        "Treemodel2 = tree.DecisionTreeClassifier()\n",
        "KNNmodel2 = KNeighborsClassifier(n_neighbors=5)\n",
        "\n",
        "Treemodel2 = Treemodel2.fit(train_x, train_y)\n",
        "KNNmodel2 = KNNmodel2.fit(train_x, train_y)"
      ],
      "execution_count": null,
      "outputs": [
        {
          "output_type": "stream",
          "name": "stderr",
          "text": [
            "/usr/local/lib/python3.7/dist-packages/ipykernel_launcher.py:5: DataConversionWarning: A column-vector y was passed when a 1d array was expected. Please change the shape of y to (n_samples, ), for example using ravel().\n",
            "  \"\"\"\n"
          ]
        }
      ]
    }
  ]
}